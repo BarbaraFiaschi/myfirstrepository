{
 "cells": [
  {
   "cell_type": "code",
   "execution_count": 27,
   "id": "93ff2baf",
   "metadata": {},
   "outputs": [],
   "source": [
    "import pandas as pd\n",
    "from matplotlib import pyplot as plt\n",
    "from sklearn import tree\n",
    "from sklearn.datasets import load_breast_cancer\n",
    "from sklearn.neighbors import KNeighborsClassifier\n",
    "from sklearn.linear_model import LogisticRegression\n",
    "from sklearn.tree import DecisionTreeClassifier\n",
    "from sklearn.ensemble import RandomForestClassifier\n",
    "from sklearn.ensemble import BaggingClassifier\n",
    "from sklearn.ensemble import AdaBoostClassifier\n",
    "from sklearn.ensemble import GradientBoostingClassifier\n",
    "import numpy as np\n",
    "\n",
    "df = pd.read_csv('titanic.csv')"
   ]
  },
  {
   "cell_type": "code",
   "execution_count": 28,
   "id": "a39691e1",
   "metadata": {},
   "outputs": [],
   "source": [
    "df.head()\n",
    "\n",
    "X_train = df[['Pclass','SibSp','Parch', 'Fare']] \n",
    "Y_train = df[['Survived']]\n",
    "\n",
    "#X_train = np.array(x_train) #inserisco in un array la matrice di dati definita attraverso x_data\n",
    "#Y_train = np.array(y_train) #inserisco in un array la matrice di dati definita attraverso x_data"
   ]
  },
  {
   "cell_type": "code",
   "execution_count": 29,
   "id": "32dc32e7",
   "metadata": {},
   "outputs": [
    {
     "name": "stderr",
     "output_type": "stream",
     "text": [
      "C:\\ProgramData\\Anaconda3\\lib\\site-packages\\sklearn\\neighbors\\_classification.py:179: DataConversionWarning: A column-vector y was passed when a 1d array was expected. Please change the shape of y to (n_samples,), for example using ravel().\n",
      "  return self._fit(X, y)\n"
     ]
    },
    {
     "data": {
      "text/plain": [
       "76.66"
      ]
     },
     "execution_count": 29,
     "metadata": {},
     "output_type": "execute_result"
    }
   ],
   "source": [
    "#KNN\n",
    "knnClassifier = KNeighborsClassifier(5).fit(X_train, Y_train)\n",
    "KNN_Accuracy = round(knnClassifier.score(X_train, Y_train) * 100, 2)\n",
    "KNN_Accuracy"
   ]
  },
  {
   "cell_type": "code",
   "execution_count": 30,
   "id": "2d22ac57",
   "metadata": {},
   "outputs": [
    {
     "name": "stderr",
     "output_type": "stream",
     "text": [
      "C:\\ProgramData\\Anaconda3\\lib\\site-packages\\sklearn\\utils\\validation.py:63: DataConversionWarning: A column-vector y was passed when a 1d array was expected. Please change the shape of y to (n_samples, ), for example using ravel().\n",
      "  return f(*args, **kwargs)\n"
     ]
    }
   ],
   "source": [
    "#LOGISTIC REGRESSION\n",
    "\n",
    "LogisticRegression = LogisticRegression().fit(X_train, Y_train)\n",
    "LogisticRegression_Accuracy = round(lr.score(X_train, Y_train) * 100, 2)\n"
   ]
  },
  {
   "cell_type": "code",
   "execution_count": 33,
   "id": "0465b0c3",
   "metadata": {},
   "outputs": [],
   "source": [
    "#DECISION TREE CLASSIFIER\n",
    "\n",
    "DecisionT = DecisionTreeClassifier().fit(X_train, Y_train)\n",
    "DecisionT_Accuracy = round(dt.score(X_train, Y_train) * 100, 2)\n",
    "\n"
   ]
  },
  {
   "cell_type": "code",
   "execution_count": 34,
   "id": "20afb69a",
   "metadata": {},
   "outputs": [
    {
     "name": "stderr",
     "output_type": "stream",
     "text": [
      "C:\\Users\\BARBAR~1\\AppData\\Local\\Temp/ipykernel_2488/2445155413.py:1: DataConversionWarning: A column-vector y was passed when a 1d array was expected. Please change the shape of y to (n_samples,), for example using ravel().\n",
      "  RandomForest = RandomForestClassifier().fit(X_train, Y_train)\n"
     ]
    }
   ],
   "source": [
    "RandomForest = RandomForestClassifier().fit(X_train, Y_train)\n",
    "RandomForest_Accuracy = round(RandomForest.score(X_train, Y_train) * 100, 2)\n"
   ]
  },
  {
   "cell_type": "code",
   "execution_count": 35,
   "id": "ab9423e9",
   "metadata": {},
   "outputs": [
    {
     "name": "stderr",
     "output_type": "stream",
     "text": [
      "C:\\ProgramData\\Anaconda3\\lib\\site-packages\\sklearn\\utils\\validation.py:63: DataConversionWarning: A column-vector y was passed when a 1d array was expected. Please change the shape of y to (n_samples, ), for example using ravel().\n",
      "  return f(*args, **kwargs)\n"
     ]
    }
   ],
   "source": [
    "Bagging = BaggingClassifier().fit(X_train, Y_train)\n",
    "Bagging_Accuracy = round(Bagging.score(X_train, Y_train) * 100, 2)\n"
   ]
  },
  {
   "cell_type": "code",
   "execution_count": 36,
   "id": "cbee5fca",
   "metadata": {},
   "outputs": [
    {
     "name": "stderr",
     "output_type": "stream",
     "text": [
      "C:\\ProgramData\\Anaconda3\\lib\\site-packages\\sklearn\\utils\\validation.py:63: DataConversionWarning: A column-vector y was passed when a 1d array was expected. Please change the shape of y to (n_samples, ), for example using ravel().\n",
      "  return f(*args, **kwargs)\n"
     ]
    }
   ],
   "source": [
    "AdaBoost = AdaBoostClassifier().fit(X_train, Y_train)\n",
    "AdaBoost_Accuracy = round(AdaBoost.score(X_train, Y_train) * 100, 2)\n"
   ]
  },
  {
   "cell_type": "code",
   "execution_count": 37,
   "id": "c6e3cad0",
   "metadata": {},
   "outputs": [
    {
     "name": "stderr",
     "output_type": "stream",
     "text": [
      "C:\\ProgramData\\Anaconda3\\lib\\site-packages\\sklearn\\utils\\validation.py:63: DataConversionWarning: A column-vector y was passed when a 1d array was expected. Please change the shape of y to (n_samples, ), for example using ravel().\n",
      "  return f(*args, **kwargs)\n"
     ]
    }
   ],
   "source": [
    "GradientBoosting = GradientBoostingClassifier().fit(X_train, Y_train)\n",
    "GradientBoosting_Accuracy = round(GradientBoosting.score(X_train, Y_train) * 100, 2)\n"
   ]
  },
  {
   "cell_type": "code",
   "execution_count": 38,
   "id": "e73cfd7d",
   "metadata": {},
   "outputs": [
    {
     "data": {
      "text/html": [
       "<div>\n",
       "<style scoped>\n",
       "    .dataframe tbody tr th:only-of-type {\n",
       "        vertical-align: middle;\n",
       "    }\n",
       "\n",
       "    .dataframe tbody tr th {\n",
       "        vertical-align: top;\n",
       "    }\n",
       "\n",
       "    .dataframe thead th {\n",
       "        text-align: right;\n",
       "    }\n",
       "</style>\n",
       "<table border=\"1\" class=\"dataframe\">\n",
       "  <thead>\n",
       "    <tr style=\"text-align: right;\">\n",
       "      <th></th>\n",
       "      <th>Algoritmi</th>\n",
       "    </tr>\n",
       "    <tr>\n",
       "      <th>Accuratezza</th>\n",
       "      <th></th>\n",
       "    </tr>\n",
       "  </thead>\n",
       "  <tbody>\n",
       "    <tr>\n",
       "      <th>76.66</th>\n",
       "      <td>knn(5)</td>\n",
       "    </tr>\n",
       "    <tr>\n",
       "      <th>68.80</th>\n",
       "      <td>Logistic Regression</td>\n",
       "    </tr>\n",
       "    <tr>\n",
       "      <th>83.61</th>\n",
       "      <td>Decision Tree</td>\n",
       "    </tr>\n",
       "    <tr>\n",
       "      <th>83.61</th>\n",
       "      <td>Random Forest</td>\n",
       "    </tr>\n",
       "    <tr>\n",
       "      <th>83.16</th>\n",
       "      <td>Bagging</td>\n",
       "    </tr>\n",
       "    <tr>\n",
       "      <th>72.05</th>\n",
       "      <td>AdaBoost</td>\n",
       "    </tr>\n",
       "    <tr>\n",
       "      <th>79.24</th>\n",
       "      <td>GradientBoosting</td>\n",
       "    </tr>\n",
       "  </tbody>\n",
       "</table>\n",
       "</div>"
      ],
      "text/plain": [
       "                       Algoritmi\n",
       "Accuratezza                     \n",
       "76.66                     knn(5)\n",
       "68.80        Logistic Regression\n",
       "83.61              Decision Tree\n",
       "83.61              Random Forest\n",
       "83.16                    Bagging\n",
       "72.05                   AdaBoost\n",
       "79.24           GradientBoosting"
      ]
     },
     "execution_count": 38,
     "metadata": {},
     "output_type": "execute_result"
    }
   ],
   "source": [
    "Accuracy = {    \n",
    "'Algoritmi': ['knn(5)', 'Logistic Regression', 'Decision Tree','Random Forest','Bagging', 'AdaBoost','GradientBoosting'],\n",
    "'Accuratezza': [KNN_Accuracy, LogisticRegression_Accuracy, DecisionT_Accuracy,RandomForest_Accuracy,Bagging_Accuracy,AdaBoost_Accuracy,GradientBoosting_Accuracy]} \n",
    "acc = pd.DataFrame.from_dict(Accuracy)\n",
    "acc = acc.set_index('Accuratezza')\n",
    "acc"
   ]
  },
  {
   "cell_type": "code",
   "execution_count": null,
   "id": "6628360e",
   "metadata": {},
   "outputs": [],
   "source": []
  },
  {
   "cell_type": "code",
   "execution_count": null,
   "id": "90586e42",
   "metadata": {},
   "outputs": [],
   "source": []
  }
 ],
 "metadata": {
  "kernelspec": {
   "display_name": "Python 3 (ipykernel)",
   "language": "python",
   "name": "python3"
  },
  "language_info": {
   "codemirror_mode": {
    "name": "ipython",
    "version": 3
   },
   "file_extension": ".py",
   "mimetype": "text/x-python",
   "name": "python",
   "nbconvert_exporter": "python",
   "pygments_lexer": "ipython3",
   "version": "3.9.7"
  }
 },
 "nbformat": 4,
 "nbformat_minor": 5
}
